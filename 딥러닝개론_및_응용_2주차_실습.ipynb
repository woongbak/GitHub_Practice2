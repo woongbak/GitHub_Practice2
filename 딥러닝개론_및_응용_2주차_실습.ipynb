{
  "nbformat": 4,
  "nbformat_minor": 0,
  "metadata": {
    "colab": {
      "name": "딥러닝개론 및 응용_2주차 실습.ipynb",
      "provenance": [],
      "collapsed_sections": [],
      "authorship_tag": "ABX9TyNfpnOVeCrZZpoS1tHiXX6v",
      "include_colab_link": true
    },
    "kernelspec": {
      "name": "python3",
      "display_name": "Python 3"
    }
  },
  "cells": [
    {
      "cell_type": "markdown",
      "metadata": {
        "id": "view-in-github",
        "colab_type": "text"
      },
      "source": [
        "<a href=\"https://colab.research.google.com/github/JSY0717/GitHub_Practice2/blob/practice2/%EB%94%A5%EB%9F%AC%EB%8B%9D%EA%B0%9C%EB%A1%A0_%EB%B0%8F_%EC%9D%91%EC%9A%A9_2%EC%A3%BC%EC%B0%A8_%EC%8B%A4%EC%8A%B5.ipynb\" target=\"_parent\"><img src=\"https://colab.research.google.com/assets/colab-badge.svg\" alt=\"Open In Colab\"/></a>"
      ]
    },
    {
      "cell_type": "markdown",
      "metadata": {
        "id": "e_2FiiLK8JFm"
      },
      "source": [
        "# 신경망을 위한 데이터 표현"
      ]
    },
    {
      "cell_type": "code",
      "metadata": {
        "id": "fIKgMS2O6UU2"
      },
      "source": [
        "import tensorflow\r\n",
        "import keras"
      ],
      "execution_count": null,
      "outputs": []
    },
    {
      "cell_type": "code",
      "metadata": {
        "colab": {
          "base_uri": "https://localhost:8080/",
          "height": 36
        },
        "id": "UQg4mguM6dIY",
        "outputId": "889bf3f0-501f-428c-b25c-bbd218839e3a"
      },
      "source": [
        "keras.__version__"
      ],
      "execution_count": null,
      "outputs": [
        {
          "output_type": "execute_result",
          "data": {
            "application/vnd.google.colaboratory.intrinsic+json": {
              "type": "string"
            },
            "text/plain": [
              "'2.4.3'"
            ]
          },
          "metadata": {
            "tags": []
          },
          "execution_count": 106
        }
      ]
    },
    {
      "cell_type": "markdown",
      "metadata": {
        "id": "S7Un2poK8P5j"
      },
      "source": [
        "### • 1) 손글씨 데이터 분류 (MNIST dataset)"
      ]
    },
    {
      "cell_type": "code",
      "metadata": {
        "id": "7A1WJ8EE6mVi"
      },
      "source": [
        "from keras.datasets import mnist\r\n",
        "\r\n",
        "(train_images, train_labels), (test_images, test_labels) = mnist.load_data()"
      ],
      "execution_count": null,
      "outputs": []
    },
    {
      "cell_type": "code",
      "metadata": {
        "colab": {
          "base_uri": "https://localhost:8080/"
        },
        "id": "yAQGehmV6oAC",
        "outputId": "1ff1fd96-50f2-4e31-8558-374306219340"
      },
      "source": [
        "print(train_images.shape)\r\n",
        "print(train_images.ndim)\r\n",
        "print(train_images.dtype)"
      ],
      "execution_count": null,
      "outputs": [
        {
          "output_type": "stream",
          "text": [
            "(60000, 28, 28)\n",
            "3\n",
            "uint8\n"
          ],
          "name": "stdout"
        }
      ]
    },
    {
      "cell_type": "code",
      "metadata": {
        "colab": {
          "base_uri": "https://localhost:8080/"
        },
        "id": "cqfvKamr6t1W",
        "outputId": "9b20cf3b-89dd-47bc-cc32-dae6eec2e549"
      },
      "source": [
        "len(train_labels) "
      ],
      "execution_count": null,
      "outputs": [
        {
          "output_type": "execute_result",
          "data": {
            "text/plain": [
              "60000"
            ]
          },
          "metadata": {
            "tags": []
          },
          "execution_count": 109
        }
      ]
    },
    {
      "cell_type": "code",
      "metadata": {
        "colab": {
          "base_uri": "https://localhost:8080/"
        },
        "id": "ewehWQCm0Qp1",
        "outputId": "03511d43-62f7-4a81-9667-5a386178a721"
      },
      "source": [
        "train_labels"
      ],
      "execution_count": null,
      "outputs": [
        {
          "output_type": "execute_result",
          "data": {
            "text/plain": [
              "array([5, 0, 4, ..., 5, 6, 8], dtype=uint8)"
            ]
          },
          "metadata": {
            "tags": []
          },
          "execution_count": 110
        }
      ]
    },
    {
      "cell_type": "code",
      "metadata": {
        "colab": {
          "base_uri": "https://localhost:8080/"
        },
        "id": "EuTX_OWS0VpN",
        "outputId": "fc74c93e-888d-4da3-db0b-b7dd84465950"
      },
      "source": [
        "test_images.shape"
      ],
      "execution_count": null,
      "outputs": [
        {
          "output_type": "execute_result",
          "data": {
            "text/plain": [
              "(10000, 28, 28)"
            ]
          },
          "metadata": {
            "tags": []
          },
          "execution_count": 111
        }
      ]
    },
    {
      "cell_type": "code",
      "metadata": {
        "colab": {
          "base_uri": "https://localhost:8080/",
          "height": 265
        },
        "id": "6drF9Vsr66i4",
        "outputId": "202c5cf7-d2ef-4fa6-b05b-d86d89e23a4c"
      },
      "source": [
        "# 3D 텐서에서 matplotlib을 사용\r\n",
        "import matplotlib.pyplot as plt\r\n",
        "\r\n",
        "digit = train_images[4]\r\n",
        "plt.imshow(digit, cmap=plt.cm.binary)\r\n",
        "plt.show()"
      ],
      "execution_count": null,
      "outputs": [
        {
          "output_type": "display_data",
          "data": {
            "image/png": "[encoded data removed]",
            "text/plain": [
              "<Figure size 432x288 with 1 Axes>"
            ]
          },
          "metadata": {
            "tags": [],
            "needs_background": "light"
          }
        }
      ]
    },
    {
      "cell_type": "code",
      "metadata": {
        "colab": {
          "base_uri": "https://localhost:8080/",
          "height": 761
        },
        "id": "zKz6oHn3uizz",
        "outputId": "f7e817ae-03fa-4de0-8501-999522e77995"
      },
      "source": [
        "numbers=[0,1000,10000]\r\n",
        "\r\n",
        "for i in numbers:  # while i<3\r\n",
        "  digit = train_images[i]\r\n",
        "  i=i+1\r\n",
        "  plt.imshow(digit, cmap=plt.cm.binary)\r\n",
        "  plt.show()"
      ],
      "execution_count": null,
      "outputs": [
        {
          "output_type": "display_data",
          "data": {
            "image/png": "[encoded data removed]",
            "text/plain": [
              "<Figure size 432x288 with 1 Axes>"
            ]
          },
          "metadata": {
            "tags": [],
            "needs_background": "light"
          }
        },
        {
          "output_type": "display_data",
          "data": {
            "image/png": "[encoded data removed]",
            "text/plain": [
              "<Figure size 432x288 with 1 Axes>"
            ]
          },
          "metadata": {
            "tags": [],
            "needs_background": "light"
          }
        },
        {
          "output_type": "display_data",
          "data": {
            "image/png": "[encoded data removed]",
            "text/plain": [
              "<Figure size 432x288 with 1 Axes>"
            ]
          },
          "metadata": {
            "tags": [],
            "needs_background": "light"
          }
        }
      ]
    },
    {
      "cell_type": "markdown",
      "metadata": {
        "id": "XYfttFNNH7Jr"
      },
      "source": [
        "*+) numpy로 tensor 조작*\r\n"
      ]
    },
    {
      "cell_type": "code",
      "metadata": {
        "colab": {
          "base_uri": "https://localhost:8080/"
        },
        "id": "XGbNNmBDHJTk",
        "outputId": "c2ef67d2-9ebf-4179-f812-3c1ce87a2607"
      },
      "source": [
        "# slicing\r\n",
        "my_sl = train_images[10:100]\r\n",
        "#                   [10:100, 0:28, 0:28] 과 동일\r\n",
        "my_sl.shape"
      ],
      "execution_count": null,
      "outputs": [
        {
          "output_type": "execute_result",
          "data": {
            "text/plain": [
              "(90, 28, 28)"
            ]
          },
          "metadata": {
            "tags": []
          },
          "execution_count": 8
        }
      ]
    },
    {
      "cell_type": "markdown",
      "metadata": {
        "id": "MZ6buAqJIkW-"
      },
      "source": [
        "*+) 배치 데이터 : tensor의 첫번째 축을 작게 나눈 단위*\r\n"
      ]
    },
    {
      "cell_type": "code",
      "metadata": {
        "id": "j_MOIa-1IFkj"
      },
      "source": [
        "n=0\r\n",
        "batch_n = train_images[128*n : 128*(n+1)]"
      ],
      "execution_count": null,
      "outputs": []
    },
    {
      "cell_type": "markdown",
      "metadata": {
        "id": "he7NUm8otrY3"
      },
      "source": [
        "### 1-1) 신경망 생성"
      ]
    },
    {
      "cell_type": "markdown",
      "metadata": {
        "id": "6P8kFgdZvjcf"
      },
      "source": [
        "신경망은 데이터 처리 필터 역할을 하는 '층' 으로 구성되어 있다. 데이터가 층을 통과하면서 점진적으로 정제된다.  \r\n",
        "딥러닝 모델은 데이터 정제 필터가 연속된 여과기와 같다.  \r\n"
      ]
    },
    {
      "cell_type": "code",
      "metadata": {
        "id": "WisuZs-stk2S"
      },
      "source": [
        "from keras import models,layers\r\n",
        "\r\n",
        "network = models.Sequential()\r\n",
        "network.add(layers.Dense(512, activation='relu', input_shape=(28 * 28,)))\r\n",
        "network.add(layers.Dense(10, activation='softmax'))"
      ],
      "execution_count": null,
      "outputs": []
    },
    {
      "cell_type": "markdown",
      "metadata": {
        "id": "BPRqiwXHv_mF"
      },
      "source": [
        ".add() 를 통해 Dense 신경망 층 2개를 연속되게 했다. 각 점수는 현재 숫자 이미지가 10개의 숫자 클래스 중 하나에 속할 확률이다."
      ]
    },
    {
      "cell_type": "code",
      "metadata": {
        "colab": {
          "base_uri": "https://localhost:8080/"
        },
        "id": "d4cDw6QSJTjK",
        "outputId": "3fc03a9c-8818-4563-ff63-2fa7b43a9265"
      },
      "source": [
        "network.summary()"
      ],
      "execution_count": null,
      "outputs": [
        {
          "output_type": "stream",
          "text": [
            "Model: \"sequential_5\"\n",
            "_________________________________________________________________\n",
            "Layer (type)                 Output Shape              Param #   \n",
            "=================================================================\n",
            "dense_13 (Dense)             (None, 512)               401920    \n",
            "_________________________________________________________________\n",
            "dense_14 (Dense)             (None, 10)                5130      \n",
            "=================================================================\n",
            "Total params: 407,050\n",
            "Trainable params: 407,050\n",
            "Non-trainable params: 0\n",
            "_________________________________________________________________\n"
          ],
          "name": "stdout"
        }
      ]
    },
    {
      "cell_type": "markdown",
      "metadata": {
        "id": "gdnPKmc-wnot"
      },
      "source": [
        "신경망 컴파일 단계에서 필요한 세 파라미터는 다음과 같다.  \r\n",
        "\r\n",
        "1. 손실함수 : train data에서 신경망의 성능 측정  \r\n",
        "2. 옵티마이저 : 입력된 데이터와 손실 함수를 기반으로 네트워크를 업데이트하는 메커니즘  \r\n",
        "3. 훈련과 테스트 과정을 모니터링할 지표 : 여기에서는 정확도"
      ]
    },
    {
      "cell_type": "code",
      "metadata": {
        "id": "_Kw_at9tvX6q"
      },
      "source": [
        "network.compile(optimizer='rmsprop',\r\n",
        "                loss='categorical_crossentropy',\r\n",
        "                metrics=['accuracy'])"
      ],
      "execution_count": null,
      "outputs": []
    },
    {
      "cell_type": "code",
      "metadata": {
        "id": "pKOVe4z1xVJn"
      },
      "source": [
        "# 전처리\r\n",
        "# 1) 데이터를 network에 맞는 크기로 바꾸고, 모든 값을 0과 1 사이로 scale 조정\r\n",
        "# 0~255 -> 0~1\r\n",
        "\r\n",
        "train_images = train_images.reshape((60000, 28 * 28))\r\n",
        "train_images = train_images.astype('float32') / 255\r\n",
        "\r\n",
        "test_images = test_images.reshape((10000, 28 * 28))\r\n",
        "test_images = test_images.astype('float32') / 255\r\n",
        "\r\n",
        "# 2) 레이블을 범주형으로 인코딩\r\n",
        "from keras.utils import to_categorical\r\n",
        "\r\n",
        "train_labels = to_categorical(train_labels)\r\n",
        "test_labels = to_categorical(test_labels)"
      ],
      "execution_count": null,
      "outputs": []
    },
    {
      "cell_type": "code",
      "metadata": {
        "colab": {
          "base_uri": "https://localhost:8080/"
        },
        "id": "oD2sHYO2x5uG",
        "outputId": "e4154938-a6a6-4cfd-c84a-9d7233cc833b"
      },
      "source": [
        "# .fit() 메서드를 통해 train data에 모델을 학습\r\n",
        "network.fit(train_images, train_labels, epochs=5, batch_size=128)\r\n",
        "\r\n",
        "#약 98.9%의 높은 정확도"
      ],
      "execution_count": null,
      "outputs": [
        {
          "output_type": "stream",
          "text": [
            "Epoch 1/5\n",
            "469/469 [==============================] - 3s 7ms/step - loss: 0.4187 - accuracy: 0.8802\n",
            "Epoch 2/5\n",
            "469/469 [==============================] - 3s 7ms/step - loss: 0.1053 - accuracy: 0.9685\n",
            "Epoch 3/5\n",
            "469/469 [==============================] - 3s 7ms/step - loss: 0.0697 - accuracy: 0.9792\n",
            "Epoch 4/5\n",
            "469/469 [==============================] - 3s 7ms/step - loss: 0.0480 - accuracy: 0.9855\n",
            "Epoch 5/5\n",
            "469/469 [==============================] - 3s 7ms/step - loss: 0.0371 - accuracy: 0.9892\n"
          ],
          "name": "stdout"
        },
        {
          "output_type": "execute_result",
          "data": {
            "text/plain": [
              "<tensorflow.python.keras.callbacks.History at 0x7fbf12c65240>"
            ]
          },
          "metadata": {
            "tags": []
          },
          "execution_count": 116
        }
      ]
    },
    {
      "cell_type": "code",
      "metadata": {
        "colab": {
          "base_uri": "https://localhost:8080/"
        },
        "id": "zn21llLrz3HQ",
        "outputId": "f44f96b0-c52e-45ee-94ac-17e5ec695778"
      },
      "source": [
        "# test data에 network 적용\r\n",
        "test_loss, test_acc = network.evaluate(test_images, test_labels)"
      ],
      "execution_count": null,
      "outputs": [
        {
          "output_type": "stream",
          "text": [
            "313/313 [==============================] - 1s 2ms/step - loss: 0.0678 - accuracy: 0.9802\n"
          ],
          "name": "stdout"
        }
      ]
    },
    {
      "cell_type": "code",
      "metadata": {
        "colab": {
          "base_uri": "https://localhost:8080/"
        },
        "id": "41slZKjU0Bs2",
        "outputId": "79e28dd7-8389-4070-96c7-782c87de7217"
      },
      "source": [
        "print('test_acc:', test_acc)\r\n",
        "# 98.0%로, train data에서보다는 낮음. 차이가 발생하는 이유는 과대적합 때문."
      ],
      "execution_count": null,
      "outputs": [
        {
          "output_type": "stream",
          "text": [
            "test_acc: 0.9801999926567078\n"
          ],
          "name": "stdout"
        }
      ]
    },
    {
      "cell_type": "markdown",
      "metadata": {
        "id": "9OH09to2TF5X"
      },
      "source": [
        "### •  2) 영화 리뷰 분류 (IMDB dataset)"
      ]
    },
    {
      "cell_type": "code",
      "metadata": {
        "colab": {
          "base_uri": "https://localhost:8080/"
        },
        "id": "o-s3pKXkTObr",
        "outputId": "1cfe4ff5-3752-46fb-c023-9f24fa784646"
      },
      "source": [
        "# imdb dataset 로드\r\n",
        "from keras.datasets import imdb\r\n",
        "\r\n",
        "# traindata, testdata 는 리뷰의 목록이다. 각 리뷰는 단어가 아니라 단어 인덱스의 리스트이다.\r\n",
        "# label 은 리뷰가 긍정적인지, 부정적인지를 나타내는 0 or 1\r\n",
        "(traindata,trainlabel),(testdata,testlabel) = imdb.load_data(num_words=10000)"
      ],
      "execution_count": null,
      "outputs": [
        {
          "output_type": "stream",
          "text": [
            "<string>:6: VisibleDeprecationWarning: Creating an ndarray from ragged nested sequences (which is a list-or-tuple of lists-or-tuples-or ndarrays with different lengths or shapes) is deprecated. If you meant to do this, you must specify 'dtype=object' when creating the ndarray\n",
            "/usr/local/lib/python3.6/dist-packages/tensorflow/python/keras/datasets/imdb.py:159: VisibleDeprecationWarning: Creating an ndarray from ragged nested sequences (which is a list-or-tuple of lists-or-tuples-or ndarrays with different lengths or shapes) is deprecated. If you meant to do this, you must specify 'dtype=object' when creating the ndarray\n",
            "  x_train, y_train = np.array(xs[:idx]), np.array(labels[:idx])\n",
            "/usr/local/lib/python3.6/dist-packages/tensorflow/python/keras/datasets/imdb.py:160: VisibleDeprecationWarning: Creating an ndarray from ragged nested sequences (which is a list-or-tuple of lists-or-tuples-or ndarrays with different lengths or shapes) is deprecated. If you meant to do this, you must specify 'dtype=object' when creating the ndarray\n",
            "  x_test, y_test = np.array(xs[idx:]), np.array(labels[idx:])\n"
          ],
          "name": "stderr"
        }
      ]
    },
    {
      "cell_type": "code",
      "metadata": {
        "id": "HlyuI3EanfYo"
      },
      "source": [
        "traindata[0]"
      ],
      "execution_count": null,
      "outputs": []
    },
    {
      "cell_type": "code",
      "metadata": {
        "colab": {
          "base_uri": "https://localhost:8080/"
        },
        "id": "xWKunZQlTu0u",
        "outputId": "552458b7-1235-4e84-ca6a-0c6a0cf00b33"
      },
      "source": [
        "# 리뷰데이터 하나를 원래 영어단어로 바꾸는 예제 (단어 인덱스->단어들)\r\n",
        "\r\n",
        "# 단어와 정수 인덱스를 매핑한 딕셔너리 호출\r\n",
        "word_index = imdb.get_word_index()\r\n",
        "# 정수 인덱스와 단어를 매핑하도록 뒤집는다\r\n",
        "reverse_word_index = dict([(value,key) for (key,value) in word_index.items()])\r\n",
        "# 영어단어로 변환\r\n",
        "decoded_review= ' '.join([reverse_word_index.get(i - 3,'?') for i in traindata[0]])"
      ],
      "execution_count": null,
      "outputs": [
        {
          "output_type": "stream",
          "text": [
            "Downloading data from https://storage.googleapis.com/tensorflow/tf-keras-datasets/imdb_word_index.json\n",
            "1646592/1641221 [==============================] - 0s 0us/step\n"
          ],
          "name": "stdout"
        }
      ]
    },
    {
      "cell_type": "code",
      "metadata": {
        "colab": {
          "base_uri": "https://localhost:8080/",
          "height": 148
        },
        "id": "U0wEfEjoUjIN",
        "outputId": "a268aa6f-f34a-4fce-f879-b57cfa09f0b4"
      },
      "source": [
        "decoded_review"
      ],
      "execution_count": null,
      "outputs": [
        {
          "output_type": "execute_result",
          "data": {
            "application/vnd.google.colaboratory.intrinsic+json": {
              "type": "string"
            },
            "text/plain": [
              "\"? this film was just brilliant casting location scenery story direction everyone's really suited the part they played and you could just imagine being there robert ? is an amazing actor and now the same being director ? father came from the same scottish island as myself so i loved the fact there was a real connection with this film the witty remarks throughout the film were great it was just brilliant so much that i bought the film as soon as it was released for ? and would recommend it to everyone to watch and the fly fishing was amazing really cried at the end it was so sad and you know what they say if you cry at a film it must have been good and this definitely was also ? to the two little boy's that played the ? of norman and paul they were just brilliant children are often left out of the ? list i think because the stars that play them all grown up are such a big profile for the whole film but these children are amazing and should be praised for what they have done don't you think the whole story was so lovely because it was true and was someone's life after all that was shared with us all\""
            ]
          },
          "metadata": {
            "tags": []
          },
          "execution_count": 12
        }
      ]
    },
    {
      "cell_type": "markdown",
      "metadata": {
        "id": "XzsWmd3rcnQV"
      },
      "source": [
        "### 2-1) 데이터 준비"
      ]
    },
    {
      "cell_type": "markdown",
      "metadata": {
        "id": "F5Uc1uduXKQ9"
      },
      "source": [
        "신경망에 숫자 리스트를 입력할 수 없기 때문에, 리스트를 텐서로 변경해야 한다.\r\n",
        "\r\n",
        "방법 1) 같은 길이가 되도록 리스트에 패딩을 추가하고, (saples, sequence_length) 크기의 정수 텐서로 변환  \r\n",
        "방법 2) one-hot enconding"
      ]
    },
    {
      "cell_type": "code",
      "metadata": {
        "id": "QZqZh21wV1Pv"
      },
      "source": [
        "# 방법 2) 정수 시퀀스를 이진행렬로 인코딩\r\n",
        "import numpy as np\r\n",
        "\r\n",
        "def vectorize_sequences(sequences, dimension=10000):\r\n",
        "  results = np.zeros((len(sequences),dimension)) # 영행렬 생성\r\n",
        "  for i,sequences in enumerate (sequences):\r\n",
        "    results[i, sequences] = 1. # 특정 인덱스의 위치를 1로 update\r\n",
        "    return results\r\n",
        "\r\n",
        "xtrain = vectorize_sequences(traindata)\r\n",
        "xtest = vectorize_sequences(testdata)"
      ],
      "execution_count": null,
      "outputs": []
    },
    {
      "cell_type": "code",
      "metadata": {
        "colab": {
          "base_uri": "https://localhost:8080/"
        },
        "id": "4mneid1BZ6xg",
        "outputId": "21b236b1-d6ea-43c5-80eb-b044c3b5ad56"
      },
      "source": [
        "xtrain[0]"
      ],
      "execution_count": null,
      "outputs": [
        {
          "output_type": "execute_result",
          "data": {
            "text/plain": [
              "array([0., 1., 1., ..., 0., 0., 0.])"
            ]
          },
          "metadata": {
            "tags": []
          },
          "execution_count": 14
        }
      ]
    },
    {
      "cell_type": "code",
      "metadata": {
        "id": "Xsj-NCeuaA41"
      },
      "source": [
        "# 레이블을 벡터로 변환 (이미 1과 0으로 구성되어 있으므로 one-hot enconding 불필요)\r\n",
        "\r\n",
        "ytrain = np.asarray(trainlabel).astype('float32')\r\n",
        "ytest = np.asarray(testlabel).astype('float32')"
      ],
      "execution_count": null,
      "outputs": []
    },
    {
      "cell_type": "markdown",
      "metadata": {
        "id": "BzdxaiI8cU4a"
      },
      "source": [
        "### 2-2) 신경망 모델 만들기"
      ]
    },
    {
      "cell_type": "code",
      "metadata": {
        "id": "JCmQ4iLBb4eT"
      },
      "source": [
        "from keras import models,layers\r\n",
        "\r\n",
        "mymodel = models.Sequential()\r\n",
        "mymodel.add(layers.Dense(16, activation='relu',input_shape=(10000,)))  # 16개의 은닉층\r\n",
        "mymodel.add(layers.Dense(16, activation='relu'))\r\n",
        "mymodel.add(layers.Dense(1, activation='sigmoid'))"
      ],
      "execution_count": null,
      "outputs": []
    },
    {
      "cell_type": "code",
      "metadata": {
        "colab": {
          "base_uri": "https://localhost:8080/"
        },
        "id": "2QkVQJgRfkNK",
        "outputId": "519a9ba1-85b1-48f6-be71-fe1dc059ef6a"
      },
      "source": [
        "mymodel.summary()"
      ],
      "execution_count": null,
      "outputs": [
        {
          "output_type": "stream",
          "text": [
            "Model: \"sequential\"\n",
            "_________________________________________________________________\n",
            "Layer (type)                 Output Shape              Param #   \n",
            "=================================================================\n",
            "dense (Dense)                (None, 16)                160016    \n",
            "_________________________________________________________________\n",
            "dense_1 (Dense)              (None, 16)                272       \n",
            "_________________________________________________________________\n",
            "dense_2 (Dense)              (None, 1)                 17        \n",
            "=================================================================\n",
            "Total params: 160,305\n",
            "Trainable params: 160,305\n",
            "Non-trainable params: 0\n",
            "_________________________________________________________________\n"
          ],
          "name": "stdout"
        }
      ]
    },
    {
      "cell_type": "code",
      "metadata": {
        "id": "upHeoNp7fzDG"
      },
      "source": [
        "# 모델 컴파일\r\n",
        "# 방법 1)\r\n",
        "\r\n",
        "mymodel.compile(optimizer='rmsprop',\r\n",
        "                loss='binary_crossentropy',\r\n",
        "                metrics=['accuracy'])"
      ],
      "execution_count": null,
      "outputs": []
    },
    {
      "cell_type": "code",
      "metadata": {
        "id": "n1_gzwDhk37P"
      },
      "source": [
        "# 모델 컴파일\r\n",
        "# 방법 2) 옵티마이저의 매개변수 설정하기\r\n",
        "#         loss와 metrics를 함수 객체로 지정하기\r\n",
        "\r\n",
        "from keras import optimizers\r\n",
        "\r\n",
        "mymodel.compile(optimizer=optimizers.RMSprop(lr=0.001),\r\n",
        "                loss='binary_crossentropy',\r\n",
        "                metrics=['accuracy'])\r\n",
        "\r\n",
        "from keras import losses,metrics\r\n",
        "\r\n",
        "mymodel.compile(optimizer=optimizers.RMSprop(lr=0.001),\r\n",
        "                loss=losses.binary_crossentropy,\r\n",
        "                metrics=[metrics.binary_accuracy])"
      ],
      "execution_count": null,
      "outputs": []
    },
    {
      "cell_type": "markdown",
      "metadata": {
        "id": "J0913PEpnjyl"
      },
      "source": [
        "### 2-3) 훈련 검증"
      ]
    },
    {
      "cell_type": "code",
      "metadata": {
        "id": "h38FwfZjlPVL"
      },
      "source": [
        "# 검증 데이터(처음 본 데이터) 준비\r\n",
        "\r\n",
        "xvalid = xtrain[:10000]\r\n",
        "partial_xtrain = xtrain[10000:]\r\n",
        "\r\n",
        "yvalid = ytrain[:10000]\r\n",
        "partial_ytrain = ytrain[10000:]"
      ],
      "execution_count": null,
      "outputs": []
    },
    {
      "cell_type": "code",
      "metadata": {
        "colab": {
          "base_uri": "https://localhost:8080/"
        },
        "id": "TWnxvDuIln51",
        "outputId": "5395ec68-afaa-4b39-99c8-05f840f14095"
      },
      "source": [
        "partial_xtrain"
      ],
      "execution_count": null,
      "outputs": [
        {
          "output_type": "execute_result",
          "data": {
            "text/plain": [
              "array([[0., 0., 0., ..., 0., 0., 0.],\n",
              "       [0., 0., 0., ..., 0., 0., 0.],\n",
              "       [0., 0., 0., ..., 0., 0., 0.],\n",
              "       ...,\n",
              "       [0., 0., 0., ..., 0., 0., 0.],\n",
              "       [0., 0., 0., ..., 0., 0., 0.],\n",
              "       [0., 0., 0., ..., 0., 0., 0.]])"
            ]
          },
          "metadata": {
            "tags": []
          },
          "execution_count": 50
        }
      ]
    },
    {
      "cell_type": "code",
      "metadata": {
        "colab": {
          "base_uri": "https://localhost:8080/"
        },
        "id": "h2dBKLZLm8QK",
        "outputId": "9a51001c-fa5f-43c6-aaee-6fe875fe5138"
      },
      "source": [
        "# 모델을 512개의 sample 단위로 미니 batch를 만들어,20번의 에포크동안 훈련\r\n",
        "# (xtrain과 ytrain tensor에 있는 모든 샘플에 대해 20번 반복)\r\n",
        "# ,fit() : 훈련하는 동안 발생한 모든 정보를 담고 있는 딕셔너리인 history 객체를 반환\r\n",
        "\r\n",
        "history = mymodel.fit(partial_xtrain,\r\n",
        "                    partial_ytrain,\r\n",
        "                    epochs=20,\r\n",
        "                    batch_size=512,\r\n",
        "                    validation_data=(xvalid,yvalid))"
      ],
      "execution_count": null,
      "outputs": [
        {
          "output_type": "stream",
          "text": [
            "Epoch 1/20\n",
            "30/30 [==============================] - 2s 55ms/step - loss: 0.6932 - accuracy: 0.4991 - val_loss: 0.6932 - val_accuracy: 0.4948\n",
            "Epoch 2/20\n",
            "30/30 [==============================] - 1s 30ms/step - loss: 0.6932 - accuracy: 0.4891 - val_loss: 0.6932 - val_accuracy: 0.4947\n",
            "Epoch 3/20\n",
            "30/30 [==============================] - 1s 32ms/step - loss: 0.6932 - accuracy: 0.5007 - val_loss: 0.6932 - val_accuracy: 0.4947\n",
            "Epoch 4/20\n",
            "30/30 [==============================] - 1s 32ms/step - loss: 0.6931 - accuracy: 0.5032 - val_loss: 0.6932 - val_accuracy: 0.4947\n",
            "Epoch 5/20\n",
            "30/30 [==============================] - 1s 30ms/step - loss: 0.6931 - accuracy: 0.5081 - val_loss: 0.6932 - val_accuracy: 0.4947\n",
            "Epoch 6/20\n",
            "30/30 [==============================] - 1s 31ms/step - loss: 0.6932 - accuracy: 0.4990 - val_loss: 0.6932 - val_accuracy: 0.4947\n",
            "Epoch 7/20\n",
            "30/30 [==============================] - 1s 30ms/step - loss: 0.6931 - accuracy: 0.5061 - val_loss: 0.6932 - val_accuracy: 0.4947\n",
            "Epoch 8/20\n",
            "30/30 [==============================] - 1s 30ms/step - loss: 0.6932 - accuracy: 0.4995 - val_loss: 0.6933 - val_accuracy: 0.4947\n",
            "Epoch 9/20\n",
            "30/30 [==============================] - 1s 30ms/step - loss: 0.6931 - accuracy: 0.5060 - val_loss: 0.6933 - val_accuracy: 0.4947\n",
            "Epoch 10/20\n",
            "30/30 [==============================] - 1s 31ms/step - loss: 0.6930 - accuracy: 0.5121 - val_loss: 0.6932 - val_accuracy: 0.4947\n",
            "Epoch 11/20\n",
            "30/30 [==============================] - 1s 31ms/step - loss: 0.6931 - accuracy: 0.5084 - val_loss: 0.6932 - val_accuracy: 0.4947\n",
            "Epoch 12/20\n",
            "30/30 [==============================] - 1s 30ms/step - loss: 0.6931 - accuracy: 0.5076 - val_loss: 0.6932 - val_accuracy: 0.4947\n",
            "Epoch 13/20\n",
            "30/30 [==============================] - 1s 31ms/step - loss: 0.6932 - accuracy: 0.4999 - val_loss: 0.6932 - val_accuracy: 0.4947\n",
            "Epoch 14/20\n",
            "30/30 [==============================] - 1s 31ms/step - loss: 0.6931 - accuracy: 0.5023 - val_loss: 0.6932 - val_accuracy: 0.4947\n",
            "Epoch 15/20\n",
            "30/30 [==============================] - 1s 30ms/step - loss: 0.6933 - accuracy: 0.4926 - val_loss: 0.6933 - val_accuracy: 0.4947\n",
            "Epoch 16/20\n",
            "30/30 [==============================] - 1s 31ms/step - loss: 0.6932 - accuracy: 0.4988 - val_loss: 0.6933 - val_accuracy: 0.4947\n",
            "Epoch 17/20\n",
            "30/30 [==============================] - 1s 30ms/step - loss: 0.6932 - accuracy: 0.4957 - val_loss: 0.6932 - val_accuracy: 0.4947\n",
            "Epoch 18/20\n",
            "30/30 [==============================] - 1s 30ms/step - loss: 0.6930 - accuracy: 0.5089 - val_loss: 0.6932 - val_accuracy: 0.4947\n",
            "Epoch 19/20\n",
            "30/30 [==============================] - 1s 30ms/step - loss: 0.6931 - accuracy: 0.5038 - val_loss: 0.6932 - val_accuracy: 0.4947\n",
            "Epoch 20/20\n",
            "30/30 [==============================] - 1s 29ms/step - loss: 0.6931 - accuracy: 0.5032 - val_loss: 0.6932 - val_accuracy: 0.4947\n"
          ],
          "name": "stdout"
        }
      ]
    },
    {
      "cell_type": "code",
      "metadata": {
        "colab": {
          "base_uri": "https://localhost:8080/"
        },
        "id": "mN7ADuXlhGSF",
        "outputId": "48f3ae0a-7e56-4506-c872-e185578a91ac"
      },
      "source": [
        "history_dict = history.history\r\n",
        "history_dict.keys()"
      ],
      "execution_count": null,
      "outputs": [
        {
          "output_type": "execute_result",
          "data": {
            "text/plain": [
              "dict_keys(['loss', 'accuracy', 'val_loss', 'val_accuracy'])"
            ]
          },
          "metadata": {
            "tags": []
          },
          "execution_count": 65
        }
      ]
    },
    {
      "cell_type": "markdown",
      "metadata": {
        "id": "aqePkuthgDr1"
      },
      "source": [
        "### 2-4) matplotlib을 활용해 훈련과 검증 데이터에 대한 loss와 accuracy 시각화"
      ]
    },
    {
      "cell_type": "code",
      "metadata": {
        "id": "hZqmI1Aqhq0E"
      },
      "source": [
        "import matplotlib.pyplot as plt"
      ],
      "execution_count": null,
      "outputs": []
    },
    {
      "cell_type": "code",
      "metadata": {
        "colab": {
          "base_uri": "https://localhost:8080/",
          "height": 295
        },
        "id": "2H118Z7OdEVJ",
        "outputId": "1f2b48b6-20bd-4232-ad23-5e0dabe785a1"
      },
      "source": [
        "#loss\r\n",
        "\r\n",
        "loss = history_dict['loss']\r\n",
        "val_loss = history_dict['val_loss']\r\n",
        "\r\n",
        "epochs = range(1,len(acc)+1)\r\n",
        "\r\n",
        "plt.plot(epochs, loss, 'bo', label='Training loss')\r\n",
        "plt.plot(epochs, val_loss, 'b', label='Validation loss')\r\n",
        "plt.title('Training and Validation Loss')\r\n",
        "plt.xlabel('Epochs')\r\n",
        "plt.ylabel('Loss')\r\n",
        "plt.legend()\r\n",
        "plt.show()"
      ],
      "execution_count": null,
      "outputs": [
        {
          "output_type": "display_data",
          "data": {
            "image/png": "[encoded data removed]",
            "text/plain": [
              "<Figure size 432x288 with 1 Axes>"
            ]
          },
          "metadata": {
            "tags": [],
            "needs_background": "light"
          }
        }
      ]
    },
    {
      "cell_type": "code",
      "metadata": {
        "colab": {
          "base_uri": "https://localhost:8080/",
          "height": 295
        },
        "id": "efEYZanpg6kv",
        "outputId": "7fed052d-5e66-4904-b359-f484e0a7bfb9"
      },
      "source": [
        "# accuracy\r\n",
        "\r\n",
        "plt.clf()  # 그래프 초기화\r\n",
        "\r\n",
        "acc = history_dict['accuracy']\r\n",
        "val_acc = history_dict['val_accuracy']\r\n",
        "\r\n",
        "plt.plot(epochs, acc, 'bo', label='Training acc')\r\n",
        "plt.plot(epochs, val_acc, 'b', label='Validation acc')\r\n",
        "plt.title('Training and Validation Accuracy')\r\n",
        "plt.xlabel('Epochs')\r\n",
        "plt.ylabel('Accuracy')\r\n",
        "plt.legend()\r\n",
        "plt.show()"
      ],
      "execution_count": null,
      "outputs": [
        {
          "output_type": "display_data",
          "data": {
            "image/png": "[encoded data removed]",
            "text/plain": [
              "<Figure size 432x288 with 1 Axes>"
            ]
          },
          "metadata": {
            "tags": [],
            "needs_background": "light"
          }
        }
      ]
    },
    {
      "cell_type": "markdown",
      "metadata": {
        "id": "avvMN7RCm2ti"
      },
      "source": [
        "training data에 과대적합되었음을 알 수 있다.  \r\n",
        "\r\n",
        "과대적합을 완화하기 위해, 새로운 신경망을 4번의 에포크 동안만 훈련하고  \r\n",
        "test data로 평가해본다."
      ]
    },
    {
      "cell_type": "markdown",
      "metadata": {
        "id": "iDdn7WpXoh-8"
      },
      "source": [
        "### 2-2) 신경망 모델 만들기(2)\r\n"
      ]
    },
    {
      "cell_type": "code",
      "metadata": {
        "colab": {
          "base_uri": "https://localhost:8080/"
        },
        "id": "6sLWMae2oh_I",
        "outputId": "ff0cebd0-9483-4249-cbab-8d54b986b1b9"
      },
      "source": [
        "mymodel = models.Sequential()\r\n",
        "mymodel.add(layers.Dense(16, activation='relu',input_shape=(10000,)))  # 16개의 은닉층\r\n",
        "mymodel.add(layers.Dense(16, activation='relu'))\r\n",
        "mymodel.add(layers.Dense(1, activation='sigmoid'))\r\n",
        "\r\n",
        "# 모델 컴파일\r\n",
        "mymodel.compile(optimizer='rmsprop',\r\n",
        "                loss='binary_crossentropy',\r\n",
        "                metrics=['accuracy'])\r\n",
        "\r\n",
        "mymodel.fit(xtrain, ytrain, epochs=4, batch_size=512)\r\n",
        "results = mymodel.evaluate(xtest, ytest)"
      ],
      "execution_count": null,
      "outputs": [
        {
          "output_type": "stream",
          "text": [
            "Epoch 1/4\n",
            "49/49 [==============================] - 2s 23ms/step - loss: 0.6932 - accuracy: 0.4991\n",
            "Epoch 2/4\n",
            "49/49 [==============================] - 1s 23ms/step - loss: 0.6932 - accuracy: 0.4986\n",
            "Epoch 3/4\n",
            "49/49 [==============================] - 1s 24ms/step - loss: 0.6932 - accuracy: 0.4983\n",
            "Epoch 4/4\n",
            "49/49 [==============================] - 1s 24ms/step - loss: 0.6932 - accuracy: 0.4971\n",
            "782/782 [==============================] - 1s 2ms/step - loss: 0.6932 - accuracy: 0.5000\n"
          ],
          "name": "stdout"
        }
      ]
    },
    {
      "cell_type": "code",
      "metadata": {
        "colab": {
          "base_uri": "https://localhost:8080/"
        },
        "id": "yuLo_Yy4kcPO",
        "outputId": "baca146e-bab2-409d-dc6b-3ecb6fbd3a7c"
      },
      "source": [
        "results  # 50%의 정확도?"
      ],
      "execution_count": null,
      "outputs": [
        {
          "output_type": "execute_result",
          "data": {
            "text/plain": [
              "[0.6931557655334473, 0.4999600052833557]"
            ]
          },
          "metadata": {
            "tags": []
          },
          "execution_count": 69
        }
      ]
    },
    {
      "cell_type": "markdown",
      "metadata": {
        "id": "ktB4Eq3TpX0F"
      },
      "source": [
        "### 2-5) 훈련된 모델로 새로운 데이터에 대해 예측하기"
      ]
    },
    {
      "cell_type": "code",
      "metadata": {
        "colab": {
          "base_uri": "https://localhost:8080/"
        },
        "id": "qB5y6yyZplyk",
        "outputId": "4b5e53fa-d949-488f-df29-56de108c6f1d"
      },
      "source": [
        "mymodel.predict(xtest)"
      ],
      "execution_count": null,
      "outputs": [
        {
          "output_type": "execute_result",
          "data": {
            "text/plain": [
              "array([[0.60192627],\n",
              "       [0.49975878],\n",
              "       [0.49975878],\n",
              "       ...,\n",
              "       [0.49975878],\n",
              "       [0.49975878],\n",
              "       [0.49975878]], dtype=float32)"
            ]
          },
          "metadata": {
            "tags": []
          },
          "execution_count": 73
        }
      ]
    },
    {
      "cell_type": "markdown",
      "metadata": {
        "id": "YcsqYPzHr72U"
      },
      "source": [
        "0.99 or more, 0.01 or less : 샘플의 분류에 대해 확신을 가지고 있음\r\n",
        "\r\n",
        "0.6, 0,4 ... : 확신 부족"
      ]
    }
  ]
}